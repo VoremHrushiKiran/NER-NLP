{
  "cells": [
    {
      "cell_type": "code",
      "source": [
        "import pandas as pd\n",
        "import spacy\n",
        "from spacy import displacy\n",
        "from collections import Counter\n",
        "import numpy as np"
      ],
      "metadata": {
        "id": "YJrV-3dLkzeT"
      },
      "execution_count": null,
      "outputs": []
    },
    {
      "cell_type": "code",
      "source": [
        "# Load the language model\n",
        "nlp = spacy.load(\"en_core_web_sm\")"
      ],
      "metadata": {
        "id": "VxkDdmnhk5fq"
      },
      "execution_count": null,
      "outputs": []
    },
    {
      "cell_type": "code",
      "source": [
        "# Content for evaluation\n",
        "content = \"Virat Kohli, the former Royal Challengers Bangalore (RCB) captain, is a celebrated cricketer from India. Chris Gayle, known for his explosive batting, has played for RCB in the Indian Premier League. At the ICC Cricket t20 World Cup, cricketers from various countries compete at international level in June for the prestigious title.\""
      ],
      "metadata": {
        "id": "koD3EixelCka"
      },
      "execution_count": null,
      "outputs": []
    },
    {
      "cell_type": "code",
      "source": [
        "# Apply spaCy's NER on the content\n",
        "doc = nlp(content)"
      ],
      "metadata": {
        "id": "fEP8q8pvlHPp"
      },
      "execution_count": null,
      "outputs": []
    },
    {
      "cell_type": "code",
      "source": [
        "# Ground truth for evaluation (list of expected entities with labels)\n",
        "ground_truth = [\n",
        "    {\"text\": \"Virat Kohli\", \"label\": \"PERSON\"},\n",
        "    {\"text\": \"Royal Challengers Bangalore\", \"label\": \"ORG\"},\n",
        "    {\"text\": \"RCB\", \"label\": \"ORG\"},\n",
        "    {\"text\": \"India\", \"label\": \"GPE\"},\n",
        "    {\"text\": \"Chris Gayle\", \"label\": \"PERSON\"},\n",
        "    {\"text\": \"Indian Premier League\", \"label\": \"ORG\"},\n",
        "    {\"text\": \"ICC Cricket t20 World Cup\", \"label\": \"EVENT\"},\n",
        "    {\"text\": \"June\", \"label\": \"DATE\"},\n",
        "]"
      ],
      "metadata": {
        "id": "U_rn4fN2lLbq"
      },
      "execution_count": null,
      "outputs": []
    },
    {
      "cell_type": "code",
      "source": [
        "# Extract spaCy's detected entities and compare to ground truth\n",
        "spacy_entities = [{\"text\": ent.text, \"label\": ent.label_} for ent in doc.ents]"
      ],
      "metadata": {
        "id": "AcMyW_8wlP-q"
      },
      "execution_count": null,
      "outputs": []
    },
    {
      "cell_type": "code",
      "source": [
        "# Calculate true positives, false positives, and false negatives\n",
        "true_positives = [e for e in spacy_entities if e in ground_truth]\n",
        "false_positives = [e for e in spacy_entities if e not in ground_truth]\n",
        "false_negatives = [e for e in ground_truth if e not in spacy_entities]"
      ],
      "metadata": {
        "id": "M4Iad8xqlUir"
      },
      "execution_count": null,
      "outputs": []
    },
    {
      "cell_type": "code",
      "source": [
        "# Calculate precision, recall, and F1 score\n",
        "precision = len(true_positives) / (len(true_positives) + len(false_positives))\n",
        "recall = len(true_positives) / (len(true_positives) + len(false_negatives))\n",
        "f1_score = 2 * precision * recall / (precision + recall)"
      ],
      "metadata": {
        "id": "OCkdFNt5lY9H"
      },
      "execution_count": null,
      "outputs": []
    },
    {
      "cell_type": "code",
      "source": [
        "# Visualize detected entities\n",
        "displacy.render(doc, style=\"ent\", jupyter=True)"
      ],
      "metadata": {
        "colab": {
          "base_uri": "https://localhost:8080/",
          "height": 122
        },
        "id": "0G4Zd1M0lf7x",
        "outputId": "f5b4d95c-48b4-408b-c55c-3d4964fc30ca"
      },
      "execution_count": null,
      "outputs": [
        {
          "output_type": "display_data",
          "data": {
            "text/plain": [
              "<IPython.core.display.HTML object>"
            ],
            "text/html": [
              "<span class=\"tex2jax_ignore\"><div class=\"entities\" style=\"line-height: 2.5; direction: ltr\">\n",
              "<mark class=\"entity\" style=\"background: #aa9cfc; padding: 0.45em 0.6em; margin: 0 0.25em; line-height: 1; border-radius: 0.35em;\">\n",
              "    Virat Kohli\n",
              "    <span style=\"font-size: 0.8em; font-weight: bold; line-height: 1; border-radius: 0.35em; vertical-align: middle; margin-left: 0.5rem\">PERSON</span>\n",
              "</mark>\n",
              ", the former \n",
              "<mark class=\"entity\" style=\"background: #7aecec; padding: 0.45em 0.6em; margin: 0 0.25em; line-height: 1; border-radius: 0.35em;\">\n",
              "    Royal Challengers Bangalore\n",
              "    <span style=\"font-size: 0.8em; font-weight: bold; line-height: 1; border-radius: 0.35em; vertical-align: middle; margin-left: 0.5rem\">ORG</span>\n",
              "</mark>\n",
              " (RCB) captain, is a celebrated cricketer from \n",
              "<mark class=\"entity\" style=\"background: #feca74; padding: 0.45em 0.6em; margin: 0 0.25em; line-height: 1; border-radius: 0.35em;\">\n",
              "    India\n",
              "    <span style=\"font-size: 0.8em; font-weight: bold; line-height: 1; border-radius: 0.35em; vertical-align: middle; margin-left: 0.5rem\">GPE</span>\n",
              "</mark>\n",
              ". \n",
              "<mark class=\"entity\" style=\"background: #aa9cfc; padding: 0.45em 0.6em; margin: 0 0.25em; line-height: 1; border-radius: 0.35em;\">\n",
              "    Chris Gayle\n",
              "    <span style=\"font-size: 0.8em; font-weight: bold; line-height: 1; border-radius: 0.35em; vertical-align: middle; margin-left: 0.5rem\">PERSON</span>\n",
              "</mark>\n",
              ", known for his explosive batting, has played for \n",
              "<mark class=\"entity\" style=\"background: #7aecec; padding: 0.45em 0.6em; margin: 0 0.25em; line-height: 1; border-radius: 0.35em;\">\n",
              "    RCB\n",
              "    <span style=\"font-size: 0.8em; font-weight: bold; line-height: 1; border-radius: 0.35em; vertical-align: middle; margin-left: 0.5rem\">ORG</span>\n",
              "</mark>\n",
              " in the \n",
              "<mark class=\"entity\" style=\"background: #c887fb; padding: 0.45em 0.6em; margin: 0 0.25em; line-height: 1; border-radius: 0.35em;\">\n",
              "    Indian\n",
              "    <span style=\"font-size: 0.8em; font-weight: bold; line-height: 1; border-radius: 0.35em; vertical-align: middle; margin-left: 0.5rem\">NORP</span>\n",
              "</mark>\n",
              " Premier League. At the ICC Cricket t20 \n",
              "<mark class=\"entity\" style=\"background: #ffeb80; padding: 0.45em 0.6em; margin: 0 0.25em; line-height: 1; border-radius: 0.35em;\">\n",
              "    World Cup\n",
              "    <span style=\"font-size: 0.8em; font-weight: bold; line-height: 1; border-radius: 0.35em; vertical-align: middle; margin-left: 0.5rem\">EVENT</span>\n",
              "</mark>\n",
              ", cricketers from various countries compete at international level in \n",
              "<mark class=\"entity\" style=\"background: #bfe1d9; padding: 0.45em 0.6em; margin: 0 0.25em; line-height: 1; border-radius: 0.35em;\">\n",
              "    June\n",
              "    <span style=\"font-size: 0.8em; font-weight: bold; line-height: 1; border-radius: 0.35em; vertical-align: middle; margin-left: 0.5rem\">DATE</span>\n",
              "</mark>\n",
              " for the prestigious title.</div></span>"
            ]
          },
          "metadata": {}
        }
      ]
    },
    {
      "cell_type": "code",
      "source": [
        "# Print evaluation metrics\n",
        "print(f\"Precision: {precision:.2f}\")\n",
        "print(f\"Recall: {recall:.2f}\")\n",
        "print(f\"F1 Score: {f1_score:.2f}\")"
      ],
      "metadata": {
        "id": "HeHZj20xlk86",
        "outputId": "5338fcd8-8f52-4932-c713-7291fabf7ca2",
        "colab": {
          "base_uri": "https://localhost:8080/"
        }
      },
      "execution_count": null,
      "outputs": [
        {
          "output_type": "stream",
          "name": "stdout",
          "text": [
            "Precision: 0.75\n",
            "Recall: 0.75\n",
            "F1 Score: 0.75\n"
          ]
        }
      ]
    }
  ],
  "metadata": {
    "colab": {
      "provenance": []
    },
    "kernelspec": {
      "display_name": "Python 3",
      "name": "python3"
    },
    "language_info": {
      "name": "python"
    }
  },
  "nbformat": 4,
  "nbformat_minor": 0
}